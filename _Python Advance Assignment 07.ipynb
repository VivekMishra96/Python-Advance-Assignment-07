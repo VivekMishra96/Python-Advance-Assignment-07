{
 "cells": [
  {
   "cell_type": "code",
   "execution_count": null,
   "id": "256f1599",
   "metadata": {},
   "outputs": [],
   "source": [
    "1. What is the purpose of the try statement?"
   ]
  },
  {
   "cell_type": "code",
   "execution_count": null,
   "id": "909cbbd8",
   "metadata": {},
   "outputs": [],
   "source": [
    "#ans.\n",
    "try statement is used for exception handling in python. it consists of a block of risky statements which might cause an exception \n",
    "during runtime. If code within try block raises exception, then the exception will be reverted to the corresponding except block if multiple except blocks are present,\n",
    "else it willbe reverted to the default except block. In short try and except in union avoid programs from crashing during runtime due to exceptions."
   ]
  },
  {
   "cell_type": "code",
   "execution_count": 1,
   "id": "ae18258f",
   "metadata": {},
   "outputs": [
    {
     "name": "stdout",
     "output_type": "stream",
     "text": [
      "Division by Zero is Not Possible division by zero\n"
     ]
    }
   ],
   "source": [
    "try:\n",
    "    print(10/0)\n",
    "except Exception as vivek:\n",
    "    print('Division by Zero is Not Possible',vivek)"
   ]
  },
  {
   "cell_type": "code",
   "execution_count": null,
   "id": "99aa5bf4",
   "metadata": {},
   "outputs": [],
   "source": [
    "2.What are the two most popular try statement variations?"
   ]
  },
  {
   "cell_type": "code",
   "execution_count": null,
   "id": "77f88f5c",
   "metadata": {},
   "outputs": [],
   "source": [
    "#ans.\n",
    "The Popular try statement variations are:\n",
    "\n",
    "try,except\n",
    "try,except,finally\n",
    "try,except,finally,else\n",
    "\n",
    "The try block is used to check code for exceptions during runtime. ie code inside try block will execute completely when there is no error in the program.\n",
    "Whereas the code inside except block will execute whenever the program encounters some error in the preceeding try block.\n",
    "\n",
    "Whereas the code enters the else block if and only if the try clause does not raise and exception. The code in the finally block will execute irrespective of exception."
   ]
  },
  {
   "cell_type": "code",
   "execution_count": null,
   "id": "16913ca9",
   "metadata": {},
   "outputs": [],
   "source": [
    "3. What is the purpose of the raise statement?"
   ]
  },
  {
   "cell_type": "code",
   "execution_count": null,
   "id": "336d6bea",
   "metadata": {},
   "outputs": [],
   "source": [
    "#ans.\n",
    "raise statement is used to trigger an exception explicitly, if a certain condition is not as per requirement of programmer. \n",
    "raise statement helps in triggering exception as per programming logic."
   ]
  },
  {
   "cell_type": "code",
   "execution_count": null,
   "id": "e5f2b86e",
   "metadata": {},
   "outputs": [],
   "source": [
    "4.What does the assert statement do, and what other statement is it like?"
   ]
  },
  {
   "cell_type": "code",
   "execution_count": null,
   "id": "6f56c3f7",
   "metadata": {},
   "outputs": [],
   "source": [
    "#ans.\n",
    "There are few assertions that programmer always want to be true to avoid code failure. This type of requirement is fulfilled by assert statement.\n",
    "This statement takes a boolean condition output of which is True, Further Program Executes. if output of assert statement is False, it raises an Assertion Error.\n",
    "\n"
   ]
  },
  {
   "cell_type": "code",
   "execution_count": 2,
   "id": "c4f426a1",
   "metadata": {},
   "outputs": [
    {
     "ename": "AssertionError",
     "evalue": "this is not a valid statement",
     "output_type": "error",
     "traceback": [
      "\u001b[1;31m---------------------------------------------------------------------------\u001b[0m",
      "\u001b[1;31mAssertionError\u001b[0m                            Traceback (most recent call last)",
      "\u001b[1;32m~\\AppData\\Local\\Temp/ipykernel_16752/3633858684.py\u001b[0m in \u001b[0;36m<module>\u001b[1;34m\u001b[0m\n\u001b[1;32m----> 1\u001b[1;33m \u001b[1;32massert\u001b[0m\u001b[1;33m(\u001b[0m\u001b[1;36m2\u001b[0m \u001b[1;33m==\u001b[0m \u001b[1;36m4\u001b[0m\u001b[1;33m)\u001b[0m\u001b[1;33m,\u001b[0m \u001b[1;34mf'this is not a valid statement'\u001b[0m\u001b[1;33m\u001b[0m\u001b[1;33m\u001b[0m\u001b[0m\n\u001b[0m",
      "\u001b[1;31mAssertionError\u001b[0m: this is not a valid statement"
     ]
    }
   ],
   "source": [
    "assert(2 == 4), f'this is not a valid statement'"
   ]
  },
  {
   "cell_type": "code",
   "execution_count": null,
   "id": "c83f234e",
   "metadata": {},
   "outputs": [],
   "source": [
    "5. What is the purpose of the with/as argument, and what other statement is it like?"
   ]
  },
  {
   "cell_type": "code",
   "execution_count": null,
   "id": "37f13b78",
   "metadata": {},
   "outputs": [],
   "source": [
    "#ans.\n",
    "with/as statement simplifies use of file handling in python. When we use a with statement for file reading, there is no need for programmer to explicitly takecare of activities like resource deallocation and file closing by using file\n",
    ".close() method. with statement itself ensures proper acquisition and release of resources. this avoids triggering of exceptions if file closing is unknowingly forgotten in the code execution."
   ]
  },
  {
   "cell_type": "code",
   "execution_count": 3,
   "id": "b5f6047f",
   "metadata": {},
   "outputs": [],
   "source": [
    "with open('sample_file.txt','w') as file:\n",
    "    file.write('Hello World')"
   ]
  },
  {
   "cell_type": "code",
   "execution_count": null,
   "id": "bb4cd507",
   "metadata": {},
   "outputs": [],
   "source": []
  }
 ],
 "metadata": {
  "kernelspec": {
   "display_name": "Python 3 (ipykernel)",
   "language": "python",
   "name": "python3"
  },
  "language_info": {
   "codemirror_mode": {
    "name": "ipython",
    "version": 3
   },
   "file_extension": ".py",
   "mimetype": "text/x-python",
   "name": "python",
   "nbconvert_exporter": "python",
   "pygments_lexer": "ipython3",
   "version": "3.9.7"
  }
 },
 "nbformat": 4,
 "nbformat_minor": 5
}
